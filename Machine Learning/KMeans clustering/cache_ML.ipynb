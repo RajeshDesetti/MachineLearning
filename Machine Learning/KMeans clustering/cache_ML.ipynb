{
 "cells": [
  {
   "cell_type": "code",
   "execution_count": 2,
   "id": "8f7cd347",
   "metadata": {},
   "outputs": [],
   "source": [
    "import pandas as pd\n",
    "import numpy as np\n",
    "from datetime import datetime, timedelta\n",
    "\n",
    "# Generate synthetic access logs\n",
    "np.random.seed(0)\n",
    "num_samples = 1000\n",
    "start_date = datetime(2024, 5, 1)\n",
    "end_date = datetime(2024, 5, 31)\n",
    "\n",
    "timestamps = [start_date + timedelta(days=np.random.randint(0, 31), hours=np.random.randint(0, 23)) for _ in range(num_samples)]\n",
    "resource_ids = np.random.randint(1, 1000, size=num_samples)\n",
    "user_ids = np.random.randint(1, 100, size=num_samples)\n",
    "\n",
    "access_logs = pd.DataFrame({'timestamp': timestamps, 'resource_id': resource_ids, 'user_id': user_ids})\n",
    "access_logs.to_csv('access_logs.csv', index=False)"
   ]
  },
  {
   "cell_type": "code",
   "execution_count": null,
   "id": "49178b6d",
   "metadata": {},
   "outputs": [],
   "source": []
  }
 ],
 "metadata": {
  "kernelspec": {
   "display_name": "Python 3 (ipykernel)",
   "language": "python",
   "name": "python3"
  },
  "language_info": {
   "codemirror_mode": {
    "name": "ipython",
    "version": 3
   },
   "file_extension": ".py",
   "mimetype": "text/x-python",
   "name": "python",
   "nbconvert_exporter": "python",
   "pygments_lexer": "ipython3",
   "version": "3.10.9"
  }
 },
 "nbformat": 4,
 "nbformat_minor": 5
}
